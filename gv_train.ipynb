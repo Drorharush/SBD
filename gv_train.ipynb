{
 "cells": [
  {
   "cell_type": "code",
   "execution_count": 1,
   "metadata": {},
   "outputs": [],
   "source": [
    "from SBD import kernel_factory, Y_factory\n",
    "\n",
    "import matplotlib.pyplot as plt\n",
    "\n",
    "import torch\n",
    "from torch import nn\n",
    "from torch.nn import functional as F\n",
    "from torch.utils.data import random_split\n",
    "import pytorch_lightning as pl\n",
    "from seg_model import mobilenet \n",
    "from seg_model import decoder"
   ]
  },
  {
   "cell_type": "code",
   "execution_count": null,
   "metadata": {},
   "outputs": [],
   "source": [
    "\n",
    "\n",
    "class DNNModel(pl.LightningModule):\n",
    "\tdef __init__(self):\n",
    "\t\tsuper().__init__()\n",
    "\t\tself.encoder =  mobilenet.MobileNetV2()\n",
    "\t\tself.decoder = decoder.DecoderSPP()\n",
    "\tdef forward(self, x):\n",
    "\t\tembedding = self.encoder(x)\n",
    "\t\treturn embedding\n",
    "\n",
    "\tdef configure_optimizers(self):\n",
    "\t\toptimizer = torch.optim.Adam(self.parameters(), lr=1e-3)\n",
    "\t\treturn optimizer\n",
    "\n",
    "\tdef training_step(self, train_batch, batch_idx):\n",
    "\t\tx, y = train_batch\n",
    "\t\tx = x.view(x.size(0), -1)\n",
    "\t\tz = self.encoder(x)    \n",
    "\t\tx_hat = self.decoder(z)\n",
    "\t\tloss = F.mse_loss(x_hat, x)\n",
    "\t\tself.log('train_loss', loss)\n",
    "\t\treturn loss\n",
    "\n",
    "\tdef validation_step(self, val_batch, batch_idx):\n",
    "\t\tx, y = val_batch\n",
    "\t\tx = x.view(x.size(0), -1)\n",
    "\t\tz = self.encoder(x)\n",
    "\t\tx_hat = self.decoder(z)\n",
    "\t\tloss = F.mse_loss(x_hat, x)\n",
    "\t\tself.log('val_loss', loss)\n",
    "\n",
    "\n",
    "train_loader = \n",
    "val_loader = \n",
    "\n",
    "# model\n",
    "model = DNNModel()\n",
    "\n",
    "# training\n",
    "trainer = pl.Trainer(gpus=4, num_nodes=8, precision=16, limit_train_batches=0.5)\n",
    "trainer.fit(model, train_loader, val_loader)\n",
    "    \n"
   ]
  }
 ],
 "metadata": {
  "interpreter": {
   "hash": "abda15453fca014edec7dd5c634b21e2caf28f7e590fa79af09fa4d47c4666bc"
  },
  "kernelspec": {
   "display_name": "Python 3.8.8 64-bit ('base': conda)",
   "name": "python3"
  },
  "language_info": {
   "codemirror_mode": {
    "name": "ipython",
    "version": 3
   },
   "file_extension": ".py",
   "mimetype": "text/x-python",
   "name": "python",
   "nbconvert_exporter": "python",
   "pygments_lexer": "ipython3",
   "version": "3.8.8"
  },
  "orig_nbformat": 4
 },
 "nbformat": 4,
 "nbformat_minor": 2
}
