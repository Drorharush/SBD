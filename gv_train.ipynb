{
 "cells": [
  {
   "cell_type": "code",
   "execution_count": 1,
   "source": [
    "from SBD import kernel_factory, Y_factory\n",
    "\n",
    "import matplotlib.pyplot as plt\n",
    "\n",
    "import torch\n",
    "from torch import nn\n",
    "from torch.nn import functional as F\n",
    "from torch.utils.data import random_split\n",
    "import pytorch_lightning as pl\n",
    "from seg_model import mobilenet \n",
    "from seg_model import decoder\n",
    "import numpy as np\n",
    "\n",
    "from torch.utils.data import Dataset, DataLoader\n",
    "from SBD import kernel_factory, Y_factory\n"
   ],
   "outputs": [],
   "metadata": {}
  },
  {
   "cell_type": "code",
   "execution_count": 2,
   "source": [
    "\n",
    "class SBDSyntheticDataset(Dataset):\n",
    "    def __init__(self, kernel_size, img_size, density, snr):\n",
    "        self.kernel_size = (kernel_size, kernel_size)\n",
    "        self.img_size = (img_size, img_size)\n",
    "        self.density = density\n",
    "        self.snr = snr\n",
    "\n",
    "    def __len__(self):\n",
    "        return 10000\n",
    "\n",
    "    def __getitem__(self, idx):\n",
    "        Y, K, X = Y_factory(1,self.img_size, self.kernel_size, self.density, self.snr)\n",
    "        X = X.toarray().astype(np.double)\n",
    "        Y = Y.astype(np.double)\n",
    "        K = K.astype(np.double)\n",
    "        return Y, K, X"
   ],
   "outputs": [],
   "metadata": {}
  },
  {
   "cell_type": "code",
   "execution_count": 3,
   "source": [
    "d = SBDSyntheticDataset(10, 200, 0.01, 0.1)"
   ],
   "outputs": [],
   "metadata": {}
  },
  {
   "cell_type": "code",
   "execution_count": 4,
   "source": [
    "\n",
    "\n",
    "class DNNModel(pl.LightningModule):\n",
    "\tdef __init__(self):\n",
    "\t\tsuper().__init__()\n",
    "\t\tself.encoder =  mobilenet.MobileNetV2()\n",
    "\t\tself.decoder = decoder.DecoderSPP()\n",
    "\tdef forward(self, x):\n",
    "\t\tembedding = self.encoder(x)\n",
    "\t\treturn embedding\n",
    "\n",
    "\tdef configure_optimizers(self):\n",
    "\t\toptimizer = torch.optim.Adam(self.parameters(), lr=1e-3)\n",
    "\t\treturn optimizer\n",
    "\n",
    "\tdef training_step(self, train_batch, batch_idx):\n",
    "\t\tY, K, X = train_batch\n",
    "\t\t# print(Y.type(), K.type(), X.type())\n",
    "\t\tz = self.encoder(Y)    \n",
    "\t\tX_pred = self.decoder(z)\n",
    "\t\tprint(X_pred.shape(), X.shape())\n",
    "\t\tloss = F.mse_loss(X_pred, X)\n",
    "\t\tself.log('train_loss', loss)\n",
    "\t\treturn loss\n",
    "\n",
    "\tdef validation_step(self, val_batch, batch_idx):\n",
    "\t\tY, K, X = val_batch\n",
    "\t\tz = self.encoder(Y)\n",
    "\t\tX_pred = self.decoder(z)\n",
    "\t\tloss = F.mse_loss(X_pred, X)\n",
    "\t\tself.log('val_loss', loss)\n",
    "\n",
    "\n",
    "train_loader = DataLoader(d, batch_size=2, shuffle=True)\n",
    "val_loader = DataLoader(d, batch_size=2, shuffle=True)\n",
    "\n",
    "# model\n",
    "model = DNNModel().double()\n",
    "\n",
    "model.training_step(next(iter(train_loader)),1)\n",
    "\n",
    "# # training\n",
    "# trainer = pl.Trainer(gpus=4, num_nodes=8, precision=16, limit_train_batches=0.5)\n",
    "# trainer.fit(model, train_loader, val_loader)\n",
    "    \n"
   ],
   "outputs": [
    {
     "output_type": "stream",
     "name": "stdout",
     "text": [
      "torch.Size([2, 320, 200, 200])\n"
     ]
    }
   ],
   "metadata": {}
  }
 ],
 "metadata": {
  "interpreter": {
   "hash": "2455b3f8ffeb658938452a152b9ce2a6ef5bbc562da89be241cd462d43ae3a8e"
  },
  "kernelspec": {
   "name": "python3",
   "display_name": "Python 3.8.8 64-bit ('base': conda)"
  },
  "language_info": {
   "codemirror_mode": {
    "name": "ipython",
    "version": 3
   },
   "file_extension": ".py",
   "mimetype": "text/x-python",
   "name": "python",
   "nbconvert_exporter": "python",
   "pygments_lexer": "ipython3",
   "version": "3.8.8"
  },
  "orig_nbformat": 4
 },
 "nbformat": 4,
 "nbformat_minor": 2
}